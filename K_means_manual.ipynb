{
  "nbformat": 4,
  "nbformat_minor": 0,
  "metadata": {
    "colab": {
      "provenance": []
    },
    "kernelspec": {
      "name": "python3",
      "display_name": "Python 3"
    },
    "language_info": {
      "name": "python"
    }
  },
  "cells": [
    {
      "cell_type": "code",
      "execution_count": 2,
      "metadata": {
        "id": "3FwbCB5WSDtc"
      },
      "outputs": [],
      "source": [
        "# Membaca data CSV secara manual\n",
        "def read_csv(filename):\n",
        "    data = []\n",
        "    with open(filename, 'r') as f:\n",
        "        header = f.readline().strip().split(',')\n",
        "        for line in f:\n",
        "            row = line.strip().split(',')\n",
        "            # Ambil fitur numerik dan encoding yang relevan\n",
        "            # Misal: Age, Annual Income (k$), Spending Score (1-100), Gender_Encoded\n",
        "            # Ubah ke float/int sesuai kebutuhan\n",
        "            data.append([\n",
        "                int(row[5]),     # Gender_Encoded (pastikan urutan kolom benar!)\n",
        "                float(row[2]),  # Age\n",
        "                float(row[3]),  # Annual Income (k$)\n",
        "                float(row[4])  # Spending Score (1-100)\n",
        "            ])\n",
        "    return data\n",
        "\n"
      ]
    },
    {
      "cell_type": "code",
      "source": [
        "# Fungsi akar kuadrat manual\n",
        "def sqrt(x):\n",
        "    if x == 0:\n",
        "        return 0\n",
        "    guess = x\n",
        "    for _ in range(20):\n",
        "        guess = (guess + x / guess) / 2.0\n",
        "    return guess\n",
        "\n"
      ],
      "metadata": {
        "id": "KilNYif5UDL7"
      },
      "execution_count": 3,
      "outputs": []
    },
    {
      "cell_type": "code",
      "source": [
        "# Fungsi jarak Euclidean manual\n",
        "def euclidean_distance(a, b):\n",
        "    total = 0\n",
        "    for i in range(len(a)):\n",
        "        total += (a[i] - b[i]) ** 2\n",
        "    return sqrt(total)\n",
        "\n"
      ],
      "metadata": {
        "id": "ZbA8j0lVUFej"
      },
      "execution_count": 4,
      "outputs": []
    },
    {
      "cell_type": "code",
      "source": [
        "# Inisialisasi centroid secara acak (ambil k data pertama)\n",
        "def init_centroids(data, k):\n",
        "    centroids = []\n",
        "    for i in range(k):\n",
        "        centroids.append(data[i][:])\n",
        "    return centroids\n",
        "\n"
      ],
      "metadata": {
        "id": "kkLyuQpuUIu8"
      },
      "execution_count": 5,
      "outputs": []
    },
    {
      "cell_type": "code",
      "source": [
        "# Assign data ke cluster terdekat\n",
        "def assign_clusters(data, centroids):\n",
        "    clusters = []\n",
        "    for _ in centroids:\n",
        "        clusters.append([])\n",
        "    for point in data:\n",
        "        min_dist = None\n",
        "        min_idx = None\n",
        "        for idx, centroid in enumerate(centroids):\n",
        "            dist = euclidean_distance(point, centroid)\n",
        "            if (min_dist is None) or (dist < min_dist):\n",
        "                min_dist = dist\n",
        "                min_idx = idx\n",
        "        clusters[min_idx].append(point)\n",
        "    return clusters\n",
        "\n"
      ],
      "metadata": {
        "id": "9-I0jNHnULJP"
      },
      "execution_count": 6,
      "outputs": []
    },
    {
      "cell_type": "code",
      "source": [
        "# Update centroid\n",
        "def update_centroids(clusters):\n",
        "    new_centroids = []\n",
        "    for cluster in clusters:\n",
        "        if len(cluster) == 0:\n",
        "            new_centroids.append([0]*len(clusters[0][0]))\n",
        "        else:\n",
        "            centroid = []\n",
        "            for i in range(len(cluster[0])):\n",
        "                s = 0\n",
        "                for point in cluster:\n",
        "                    s += point[i]\n",
        "                centroid.append(s / float(len(cluster)))\n",
        "            new_centroids.append(centroid)\n",
        "    return new_centroids\n",
        "\n"
      ],
      "metadata": {
        "id": "98H7fHRAUNoZ"
      },
      "execution_count": 7,
      "outputs": []
    },
    {
      "cell_type": "code",
      "source": [
        "# Cek konvergensi\n",
        "def is_converged(old, new, threshold=1e-4):\n",
        "    for i in range(len(old)):\n",
        "        if euclidean_distance(old[i], new[i]) >= threshold:\n",
        "            return False\n",
        "    return True\n",
        "\n"
      ],
      "metadata": {
        "id": "rnv0DbEqUP3W"
      },
      "execution_count": 8,
      "outputs": []
    },
    {
      "cell_type": "code",
      "source": [
        "# Hitung WCSS (Within-Cluster Sum of Squares)\n",
        "def calculate_wcss(clusters, centroids):\n",
        "    wcss = 0\n",
        "    for idx, cluster in enumerate(clusters):\n",
        "        for point in cluster:\n",
        "            dist = euclidean_distance(point, centroids[idx])\n",
        "            wcss += dist ** 2\n",
        "    return wcss\n",
        "\n"
      ],
      "metadata": {
        "id": "INrS9R93USix"
      },
      "execution_count": 9,
      "outputs": []
    },
    {
      "cell_type": "code",
      "source": [
        "# K-Means utama\n",
        "def kmeans(data, k, max_iter=100):\n",
        "    centroids = init_centroids(data, k)\n",
        "    for iteration in range(max_iter):\n",
        "        clusters = assign_clusters(data, centroids)\n",
        "        new_centroids = update_centroids(clusters)\n",
        "        if is_converged(centroids, new_centroids):\n",
        "            break\n",
        "        centroids = new_centroids\n",
        "    return clusters, centroids\n",
        "\n"
      ],
      "metadata": {
        "id": "Rvi1eXgnUVAg"
      },
      "execution_count": 10,
      "outputs": []
    },
    {
      "cell_type": "code",
      "source": [
        "# Analisis hasil\n",
        "def analyze_clusters(clusters, centroids):\n",
        "    for idx, cluster in enumerate(clusters):\n",
        "        print(\"Cluster\", idx+1, \":\", len(cluster), \"anggota\")\n",
        "        print(\"  Centroid:\", centroids[idx])\n",
        "        if len(cluster) > 0:\n",
        "            avg = []\n",
        "            for i in range(len(cluster[0])):\n",
        "                s = 0\n",
        "                for point in cluster:\n",
        "                    s += point[i]\n",
        "                avg.append(s / float(len(cluster)))\n",
        "            print(\"  Rata-rata fitur:\", avg)\n",
        "        print()\n",
        "\n"
      ],
      "metadata": {
        "id": "bVd-YZ-KUXdy"
      },
      "execution_count": 11,
      "outputs": []
    },
    {
      "cell_type": "code",
      "source": [
        "# Proses training untuk mencari k terbaik\n",
        "def train_best_k(data, k_min, k_max):\n",
        "    best_k = k_min\n",
        "    best_wcss = None\n",
        "    wcss_list = []\n",
        "    for k in range(k_min, k_max+1):\n",
        "        clusters, centroids = kmeans(data, k)\n",
        "        wcss = calculate_wcss(clusters, centroids)\n",
        "        wcss_list.append((k, wcss))\n",
        "        print(\"k =\", k, \"-> WCSS:\", wcss)\n",
        "        if (best_wcss is None) or (wcss < best_wcss):\n",
        "            best_wcss = wcss\n",
        "            best_k = k\n",
        "    print(\"\\nRekomendasi jumlah kluster terbaik (elbow):\", best_k)\n",
        "    return best_k, wcss_list\n",
        "\n"
      ],
      "metadata": {
        "id": "mzLRrC6UUZhk"
      },
      "execution_count": 12,
      "outputs": []
    },
    {
      "cell_type": "code",
      "source": [
        "# Main\n",
        "filename = 'Mall_Customers_Processed.csv'\n",
        "data = read_csv(\"Mall_Customers_Processed.csv\")\n",
        "\n",
        "# Proses training: cari k terbaik dari 2 sampai 6\n",
        "k_min = 2\n",
        "k_max = 6\n",
        "best_k, wcss_list = train_best_k(data, k_min, k_max)\n",
        "\n",
        "# Lakukan clustering akhir dengan k terbaik\n",
        "print(\"\\nClustering akhir dengan k =\", best_k)\n",
        "clusters, centroids = kmeans(data, best_k)\n",
        "analyze_clusters(clusters, centroids)"
      ],
      "metadata": {
        "colab": {
          "base_uri": "https://localhost:8080/"
        },
        "id": "2dIJJNY1UcqD",
        "outputId": "9bf586c1-3207-45f8-f4fd-c89f38a99051"
      },
      "execution_count": 14,
      "outputs": [
        {
          "output_type": "stream",
          "name": "stdout",
          "text": [
            "k = 2 -> WCSS: 438.5224115512283\n",
            "k = 3 -> WCSS: 345.9488316593269\n",
            "k = 4 -> WCSS: 254.40989634276002\n",
            "k = 5 -> WCSS: 245.943822927785\n",
            "k = 6 -> WCSS: 207.81672282184576\n",
            "\n",
            "Rekomendasi jumlah kluster terbaik (elbow): 6\n",
            "\n",
            "Clustering akhir dengan k = 6\n",
            "Cluster 1 : 46 anggota\n",
            "  Centroid: [0.34782608695652173, -0.8005106189565216, -0.4188348058043839, -0.22719052487192107]\n",
            "  Rata-rata fitur: [0.34782608695652173, -0.8005106189565216, -0.4188348058043839, -0.22719052487192107]\n",
            "\n",
            "Cluster 2 : 16 anggota\n",
            "  Centroid: [1.0, -0.3794663716653858, 0.8016534361865959, 1.2806262339642072]\n",
            "  Rata-rata fitur: [1.0, -0.3794663716653858, 0.8016534361865959, 1.2806262339642072]\n",
            "\n",
            "Cluster 3 : 34 anggota\n",
            "  Centroid: [0.5882352941176471, 0.17329544769644722, 1.0664538510653871, -1.2980103004705885]\n",
            "  Rata-rata fitur: [0.5882352941176471, 0.17329544769644722, 1.0664538510653871, -1.2980103004705885]\n",
            "\n",
            "Cluster 4 : 22 anggota\n",
            "  Centroid: [0.4090909090909091, -0.9743959184545455, -1.3295453165, 1.1321778796599242]\n",
            "  Rata-rata fitur: [0.4090909090909091, -0.9743959184545455, -1.3295453165, 1.1321778796599242]\n",
            "\n",
            "Cluster 5 : 58 anggota\n",
            "  Centroid: [0.43103448275862066, 1.1986274532227073, -0.4609814093499094, -0.32703818219371134]\n",
            "  Rata-rata fitur: [0.43103448275862066, 1.1986274532227073, -0.4609814093499094, -0.32703818219371134]\n",
            "\n",
            "Cluster 6 : 24 anggota\n",
            "  Centroid: [0.08333333333333333, -0.46169903691666664, 1.090309744295975, 1.1730581594812002]\n",
            "  Rata-rata fitur: [0.08333333333333333, -0.46169903691666664, 1.090309744295975, 1.1730581594812002]\n",
            "\n"
          ]
        }
      ]
    }
  ]
}